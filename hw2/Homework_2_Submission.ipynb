{
 "cells": [
  {
   "cell_type": "markdown",
   "metadata": {},
   "source": [
    "## Homework 2 Submission\n",
    "Write your name and surname below:\n",
    "<br>\n",
    "Name: Arpi\n",
    "<br>\n",
    "Surname: Hunanyan"
   ]
  },
  {
   "cell_type": "markdown",
   "metadata": {},
   "source": [
    "***Problem 1:***<br>a. Write a lambda function that raises a number to the third power and maps it on the following list creating a new list named \"result\".<br>\n",
    "b.  Define a function that takes a number as an input and returns True if it is odd and False otherwise. Filter \"result\" list keeping only odd numbers using the function defined."
   ]
  },
  {
   "cell_type": "code",
   "execution_count": 50,
   "metadata": {},
   "outputs": [
    {
     "name": "stdout",
     "output_type": "stream",
     "text": [
      "[27, 64, 125, 216, 343]\n"
     ]
    }
   ],
   "source": [
    "#a \n",
    "nums = [3, 4, 5, 6, 7]\n",
    "\n",
    "###_____________Start code here_________________###\n",
    "f=lambda lis : [i**3 for i in lis ]\n",
    "result=f(nums)\n",
    "print(result)\n",
    "###_____________End code here_________________###"
   ]
  },
  {
   "cell_type": "code",
   "execution_count": 52,
   "metadata": {},
   "outputs": [
    {
     "name": "stdout",
     "output_type": "stream",
     "text": [
      "[27, 125, 343]\n"
     ]
    }
   ],
   "source": [
    "#b\n",
    "###_____________Start code here_________________###\n",
    "\n",
    "def f1(num):\n",
    "    if num%2!=0:\n",
    "        return True\n",
    "    else:\n",
    "        return False\n",
    "filt_result=list(filter(f1,result))\n",
    "print(filt_result)\n",
    "\n",
    "###_____________End code here_________________###"
   ]
  },
  {
   "cell_type": "markdown",
   "metadata": {},
   "source": [
    "***Problem 2:*** <br>Write a program that asks a user to provide  a name  and a surname and returns a new email with  \"@edu.aua.am\" ending and underscore between the name and surname.<br> **Example**:\n",
    "For a person named Steve Jobs the email should be steve_jobs@edu.aua.am."
   ]
  },
  {
   "cell_type": "code",
   "execution_count": 53,
   "metadata": {},
   "outputs": [
    {
     "name": "stdout",
     "output_type": "stream",
     "text": [
      "your name Steve\n",
      "your surname Jobs\n",
      "steve_jobs@edu.aua.am\n"
     ]
    }
   ],
   "source": [
    "###_____________Start code here_________________###\n",
    "\n",
    "name =input(\"your name \")\n",
    "surname=input(\"your surname \")\n",
    "print(\"{0}{1}{2}{3}\".format(name.lower(),\"_\",surname.lower(),\"@edu.aua.am\"))\n",
    "\n",
    "###_____________End code here_________________###"
   ]
  },
  {
   "cell_type": "markdown",
   "metadata": {},
   "source": [
    "***Problem 3:*** <br> a. Use an assert statement to make sure that the passed list is not empty and if it is empty report it with an expression that tells the list being empty <br>b. Write a function that asks a user to input numbers separated by a comma and return the average of numbers.<br> Make sure to warn the user if he/she provided as an input anything other than number.<br>\n",
    "**Hint:** You can use try/except."
   ]
  },
  {
   "cell_type": "code",
   "execution_count": 60,
   "metadata": {},
   "outputs": [
    {
     "name": "stdout",
     "output_type": "stream",
     "text": [
      "Average of mark1: 2.0\n"
     ]
    }
   ],
   "source": [
    "#a\n",
    "def avg(marks):\n",
    "    \n",
    "    ###_____________Start code here_________________###\n",
    "    assert(marks),\"the list is empty \"\n",
    "    \n",
    "    ###_____________End code here_________________###\n",
    "\n",
    "    return sum(marks)/len(marks)\n",
    "\n",
    "mark1 = [1,2,3]\n",
    "print(\"Average of mark1:\",avg(mark1))"
   ]
  },
  {
   "cell_type": "code",
   "execution_count": 61,
   "metadata": {},
   "outputs": [
    {
     "name": "stdout",
     "output_type": "stream",
     "text": [
      "Write numbers separated by a comma I am warning you only numbers   1,2,3\n",
      "the average of numbers: 2.0\n"
     ]
    }
   ],
   "source": [
    "#b\n",
    "###_____________Start code here_________________###\n",
    "def func():\n",
    "    num= input(\"Write numbers separated by a comma I am warning you only numbers   \")\n",
    "    try:\n",
    "        num_fin=eval(num)\n",
    "        ret=sum(num_fin)/len(num_fin)\n",
    "    except:\n",
    "        print(\"You did not  get what I have told you\")\n",
    "    else:\n",
    "        print(\"the average of numbers:\",ret)\n",
    "func()\n",
    "\n",
    "\n",
    "\n",
    "\n",
    "###_____________End code here_________________###"
   ]
  },
  {
   "cell_type": "markdown",
   "metadata": {},
   "source": [
    "***Problem 4:***  <br>Given the list below, create a new one that contains all the numeric elements of the nested lists using list comprehensions.<br>\n",
    "**Note:** \"10\" is numeric. <br>\n",
    "**Hint:** Use isdigit() method to check whether a string is numeric."
   ]
  },
  {
   "cell_type": "code",
   "execution_count": 62,
   "metadata": {},
   "outputs": [
    {
     "name": "stdout",
     "output_type": "stream",
     "text": [
      "[1, 2, 3, 4, '5', 6, 7, 8, 9, '10']\n"
     ]
    }
   ],
   "source": [
    "list_of_list = [[1,\"I am a string\",2,3],[4,\"5\",6,\"Not a number\"],[7,8,9,\"10\"]]\n",
    "###_____________Start code here_________________###\n",
    "\n",
    "newLis=[i for j in list_of_list for i in j if str(i).isdigit() ]\n",
    "print(newLis)\n",
    "\n",
    "###_____________End code here_________________###"
   ]
  },
  {
   "cell_type": "markdown",
   "metadata": {},
   "source": [
    "***Problem 5:***<br>Increase the following data scientists' salaries by 10 percent except for Lord Voldemort using dictionary comprehension."
   ]
  },
  {
   "cell_type": "code",
   "execution_count": 63,
   "metadata": {},
   "outputs": [
    {
     "name": "stdout",
     "output_type": "stream",
     "text": [
      "{'Harry Potter': 770, 'Ron Weasley': 715, 'Lord Voldemort': 900, 'Hermione Granger': 880, 'Albus Dumbledore': 1100}\n"
     ]
    }
   ],
   "source": [
    "Data_Scientist={\"Harry Potter\":700,\"Ron Weasley\":650,\"Lord Voldemort\":900,\"Hermione Granger\":800,\"Albus Dumbledore\":1000}\n",
    "\n",
    "#???????????????\n",
    "###_____________Start code here_________________###\n",
    "\n",
    "Data_Scientist={\"Harry Potter\":700,\"Ron Weasley\":650,\"Lord Voldemort\":900,\"Hermione Granger\":800,\"Albus Dumbledore\":1000}\n",
    "new_Data_Scientist={k:int(Data_Scientist[k]*1.1 ) if k !=\"Lord Voldemort\"  else Data_Scientist[k] for k in  Data_Scientist for k in  Data_Scientist}\n",
    "print(new_Data_Scientist)\n",
    "\n",
    "\n",
    "###_____________End code here_________________###"
   ]
  },
  {
   "cell_type": "markdown",
   "metadata": {},
   "source": [
    "***Problem 6:***<br>a. Create a new folder in your current directory named \"files\" and change directory into that folder.<br>\n",
    "b. There are 4 famous quotes in \"quotes\" list provided below. Create/write 4 separate txt files one for each quote.<br>\n",
    "c. List all the files in \"files\" directory and loop over the files to read the quotes and write all quotes in a new txt file called \"combined.txt\".\n",
    "<br>**Note: Do not forget to change back to your working directory for the remaining problems.**"
   ]
  },
  {
   "cell_type": "code",
   "execution_count": 407,
   "metadata": {},
   "outputs": [
    {
     "name": "stdout",
     "output_type": "stream",
     "text": [
      "/Users/apple/Desktop/DS/hw2/files\n",
      "/Users/apple/Desktop/DS/hw2/files\n"
     ]
    }
   ],
   "source": [
    "#a\n",
    "###_____________Start code here_________________###\n",
    "import os\n",
    "#os.mkdir(\"files\")\n",
    "print(os.getcwd())\n",
    "os.chdir(\"/Users/apple/Desktop/DS/hw2/files\")\n",
    "print(os.getcwd())\n",
    "\n",
    "###_____________End code here_________________###"
   ]
  },
  {
   "cell_type": "code",
   "execution_count": 131,
   "metadata": {},
   "outputs": [],
   "source": [
    "#b\n",
    "quotes=[\"I'm going to make him an offer he can't refuse.\",\n",
    "\"The first rule of Fight Club is: You do not talk about Fight Club.\",\n",
    "\"Of all the gin joints in all the towns in all the world, she walks into mine.\", \n",
    "\"Being brave doesn't mean you go looking for trouble․\"]\n",
    "\n",
    "###_____________Start code here_________________###\n",
    "q_1=open(\"quote1.txt\",\"w\")\n",
    "q_1.write(quotes[0])\n",
    "q_1.close()\n",
    "\n",
    "q_2=open(\"quote2.txt\",\"w\")\n",
    "q_2.write(quotes[1])\n",
    "q_2.close()\n",
    "\n",
    "q_3=open(\"quote3.txt\",\"w\")\n",
    "q_3.write(quotes[2])\n",
    "q_3.close()\n",
    "\n",
    "q_4=open(\"quote4.txt\",\"w\")\n",
    "q_4.write(quotes[3])\n",
    "q_4.close()\n",
    "###_____________End code here_________________###"
   ]
  },
  {
   "cell_type": "code",
   "execution_count": 410,
   "metadata": {},
   "outputs": [],
   "source": [
    "os.listdir()\n",
    "os.removedirs('.ipynb_checkpoints')"
   ]
  },
  {
   "cell_type": "code",
   "execution_count": 445,
   "metadata": {},
   "outputs": [
    {
     "data": {
      "text/plain": [
       "['combined.txt', 'quote3.txt', 'quote2.txt', 'quote1.txt', 'quote4.txt']"
      ]
     },
     "execution_count": 445,
     "metadata": {},
     "output_type": "execute_result"
    }
   ],
   "source": [
    "os.listdir()"
   ]
  },
  {
   "cell_type": "code",
   "execution_count": 453,
   "metadata": {},
   "outputs": [
    {
     "name": "stdout",
     "output_type": "stream",
     "text": [
      "Being brave doesn't mean you go looking for trouble․\n",
      "I'm going to make him an offer he can't refuse.\n",
      "The first rule of Fight Club is: You do not talk about Fight Club.\n",
      "Of all the gin joints in all the towns in all the world, she walks into mine.\n",
      "\n"
     ]
    }
   ],
   "source": [
    "#chkanches\n",
    "l=os.listdir()\n",
    "s=\"\"\n",
    "qou=open(\"combined.txt\",\"w\")\n",
    "for i in l:\n",
    "    with open(i,\"r\") as qout:\n",
    "        s=qout.read()+\"\\n\"+s\n",
    "print(s)    \n",
    "qou.write(s) \n",
    "qou.close()"
   ]
  },
  {
   "cell_type": "code",
   "execution_count": 455,
   "metadata": {},
   "outputs": [],
   "source": [
    "os.chdir(\"/Users/apple/Desktop/DS/hw2\")"
   ]
  },
  {
   "cell_type": "markdown",
   "metadata": {},
   "source": [
    "***Problem 7:***\n",
    "<br>a. Calculate the value of \"string\" expression given below.<br>\n",
    "b. Execute the code written in \"code.txt\" file attached."
   ]
  },
  {
   "cell_type": "code",
   "execution_count": 16,
   "metadata": {},
   "outputs": [
    {
     "data": {
      "text/plain": [
       "41.0"
      ]
     },
     "execution_count": 16,
     "metadata": {},
     "output_type": "execute_result"
    }
   ],
   "source": [
    "#a\n",
    "a=5\n",
    "c=2\n",
    "string='round((a+51)**c/75,-1)+1'\n",
    "\n",
    "###_____________Start code here_________________###\n",
    "\n",
    "eval(string)\n",
    "###_____________End code here_________________###\n"
   ]
  },
  {
   "cell_type": "code",
   "execution_count": 11,
   "metadata": {},
   "outputs": [
    {
     "name": "stdout",
     "output_type": "stream",
     "text": [
      "x is 2,y is 4 and z is 3\n",
      "x**y+z is 19\n",
      "Hello, I am your code\n"
     ]
    }
   ],
   "source": [
    "#b\n",
    "\n",
    "###_____________Start code here_________________###\n",
    "code=open(\"code.txt\",\"r\")\n",
    "code_fin=code.read()\n",
    "exec(code_fin)\n",
    "\n",
    "code.close()\n",
    "\n",
    "###_____________End code here_________________###\n"
   ]
  },
  {
   "cell_type": "markdown",
   "metadata": {},
   "source": [
    "***Problem 8:***<br>\n",
    "**a.**<br> Our 5 students' test scores are now stored in the 2-d array \"student_scores\". Each row stores the corresponding test's scores. <br>\n",
    "Calculate the mean of grades of each student(columns) and the median of grades per test (rows)?"
   ]
  },
  {
   "cell_type": "code",
   "execution_count": 138,
   "metadata": {},
   "outputs": [
    {
     "name": "stdout",
     "output_type": "stream",
     "text": [
      "the mean of grades of 1 student 86.0 \n",
      "\n",
      "the mean of grades of 2 student 93.0 \n",
      "\n",
      "the mean of grades of 3 student 82.0 \n",
      "\n",
      "the mean of grades of 4 student 91.33333333333333 \n",
      "\n",
      "the mean of grades of 5 student 90.0 \n",
      "\n",
      "the median of grades 1 test   90.4 \n",
      "\n",
      "the median of grades 2 test   89.8 \n",
      "\n",
      "the median of grades 3 test   85.2 \n",
      "\n"
     ]
    }
   ],
   "source": [
    "\n",
    "\n",
    "###_____________Start code here_________________###\n",
    "import numpy as np\n",
    "student_scores = np.array([[92, 94, 88, 91, 87],\n",
    "                           [79, 100, 86, 93, 91],\n",
    "                           [87, 85, 72, 90, 92]])\n",
    " \n",
    "\n",
    "for i in range(len(student_scores[0,:])):\n",
    "    print(\"the mean of grades of {} student\".format(i+1),np.mean(student_scores[:,i]),\"\\n\")\n",
    "for i in range(len(student_scores[:,0])):\n",
    "    print(\"the median of grades {} test  \".format(i+1),np.mean(student_scores[i,:]),\"\\n\")\n",
    "\n",
    "###_____________End code here_________________###"
   ]
  },
  {
   "cell_type": "markdown",
   "metadata": {},
   "source": [
    "**b.**<br>\n",
    "Create a logical statement that selects elements in \"porridge\" array that are less than 60, and saves them in a new array called \"cold\".<br>\n",
    "Create a logical statement that finds all elements that are higher than 80 and saves them in an array named \"hot\"."
   ]
  },
  {
   "cell_type": "code",
   "execution_count": 32,
   "metadata": {},
   "outputs": [
    {
     "name": "stdout",
     "output_type": "stream",
     "text": [
      "[50 56 51]\n",
      "[90 85 98]\n"
     ]
    }
   ],
   "source": [
    "porridge = np.array([79, 65, 50, 63, 56, 90, 85, 98, 79, 51])\n",
    "###_____________Start code here_________________###\n",
    "\n",
    "cold= porridge[porridge<60]\n",
    "print(cold)\n",
    "hot= porridge[porridge>80]\n",
    "print(hot)\n",
    "###_____________End code here_________________###"
   ]
  },
  {
   "cell_type": "markdown",
   "metadata": {},
   "source": [
    "***Problem 9:***<br><br>**Note:** You do not have to create arrays mannualy; you can use NumPy methods for the below assignments.\n",
    "<br>**a.** Create a null vector of length 100 then assign 10 to 5th value.<br>  \n",
    "**b.** Create a vector of length 10 with random integers between 1 and 10.<br>\n",
    "**c.** Convert the given 1D array to a 2D array with 5 rows and 2 columns.\n",
    "<br> **Hint:** You can use numpy's reshape, random.randint, random.random methods for the below assignments."
   ]
  },
  {
   "cell_type": "code",
   "execution_count": 43,
   "metadata": {},
   "outputs": [
    {
     "name": "stdout",
     "output_type": "stream",
     "text": [
      "[ 0.  0.  0.  0. 10.  0.  0.  0.  0.  0.  0.  0.  0.  0.  0.  0.  0.  0.\n",
      "  0.  0.  0.  0.  0.  0.  0.  0.  0.  0.  0.  0.  0.  0.  0.  0.  0.  0.\n",
      "  0.  0.  0.  0.  0.  0.  0.  0.  0.  0.  0.  0.  0.  0.  0.  0.  0.  0.\n",
      "  0.  0.  0.  0.  0.  0.  0.  0.  0.  0.  0.  0.  0.  0.  0.  0.  0.  0.\n",
      "  0.  0.  0.  0.  0.  0.  0.  0.  0.  0.  0.  0.  0.  0.  0.  0.  0.  0.\n",
      "  0.  0.  0.  0.  0.  0.  0.  0.  0.  0.]\n"
     ]
    }
   ],
   "source": [
    "#a\n",
    "###_____________Start code here_________________###\n",
    "null_vector=np.zeros(100)\n",
    "null_vector[4]=10\n",
    "print(null_vector)\n",
    "\n",
    "\n",
    "\n",
    "###_____________End code here_________________###"
   ]
  },
  {
   "cell_type": "code",
   "execution_count": 45,
   "metadata": {},
   "outputs": [
    {
     "name": "stdout",
     "output_type": "stream",
     "text": [
      "[1 3 8 3 2 4 6 4 8 7]\n"
     ]
    }
   ],
   "source": [
    "#b hanel\n",
    "###_____________Start code here_________________###\n",
    "vec =np.random.randint(1,10,size=10)\n",
    "print(vec)\n",
    "\n",
    "###_____________End code here_________________###"
   ]
  },
  {
   "cell_type": "code",
   "execution_count": 49,
   "metadata": {},
   "outputs": [
    {
     "name": "stdout",
     "output_type": "stream",
     "text": [
      "[[0 1]\n",
      " [2 3]\n",
      " [4 5]\n",
      " [6 7]\n",
      " [8 9]]\n"
     ]
    }
   ],
   "source": [
    "#c\n",
    "arr=np.array([ 0, 1, 2, 3, 4, 5, 6, 7, 8, 9])\n",
    "###_____________Start code here_________________###\n",
    "\n",
    "arr1=arr.reshape(5,2)\n",
    "print(arr1)\n",
    "###_____________End code here_________________###"
   ]
  },
  {
   "cell_type": "markdown",
   "metadata": {},
   "source": [
    "***Problem 10:***<br>\n",
    "Create a DataFrame with the provided data. We have already filled in the information for \"Product ID\" in \"df1\".<br>\n",
    "Write a code to create the columns \"Product Name\" and \"Color\" with the data given below.</center><br>\n",
    "Products are a pair of blue jeans, a green t-shirt, a black hat and white shoes.<br>\n",
    "After all output (save) it as an .xlsx file in your current directory."
   ]
  },
  {
   "cell_type": "code",
   "execution_count": 1,
   "metadata": {},
   "outputs": [],
   "source": [
    "import pandas as pd\n",
    "\n",
    "\n",
    "    ###_____________Start code here_________________###\n",
    "df1 =pd.DataFrame({'Product ID': [1, 2, 3, 4]})\n",
    "df1[\"Product Name\"] =[\"jeans\",\"t-shirt\",\"hat\",\"shoes\"]\n",
    "df1[\"Color\"] =[\"blue\",\"green \",\"black\",\"white\"] \n",
    "\n",
    "df1.to_excel(\"df1.xlsx\")   \n",
    " \n",
    "\n",
    "    ###_____________End code here_________________###"
   ]
  },
  {
   "cell_type": "markdown",
   "metadata": {},
   "source": [
    "***Problem 11:***<br>Read the attached file \"titanic.csv\" as DataFrame \"df\", have a look at first 5 rows and get information about the dataset using info() method.</strong><br>\n"
   ]
  },
  {
   "cell_type": "code",
   "execution_count": 2,
   "metadata": {},
   "outputs": [
    {
     "name": "stdout",
     "output_type": "stream",
     "text": [
      "<class 'pandas.core.frame.DataFrame'>\n",
      "RangeIndex: 1309 entries, 0 to 1308\n",
      "Data columns (total 14 columns):\n",
      "pclass       1309 non-null int64\n",
      "survived     1309 non-null int64\n",
      "name         1309 non-null object\n",
      "sex          1309 non-null object\n",
      "age          1046 non-null float64\n",
      "sibsp        1309 non-null int64\n",
      "parch        1309 non-null int64\n",
      "ticket       1309 non-null object\n",
      "fare         1308 non-null float64\n",
      "cabin        295 non-null object\n",
      "embarked     1307 non-null object\n",
      "boat         486 non-null object\n",
      "body         121 non-null float64\n",
      "home.dest    745 non-null object\n",
      "dtypes: float64(3), int64(4), object(7)\n",
      "memory usage: 143.2+ KB\n",
      "None\n"
     ]
    },
    {
     "data": {
      "text/html": [
       "<div>\n",
       "<style scoped>\n",
       "    .dataframe tbody tr th:only-of-type {\n",
       "        vertical-align: middle;\n",
       "    }\n",
       "\n",
       "    .dataframe tbody tr th {\n",
       "        vertical-align: top;\n",
       "    }\n",
       "\n",
       "    .dataframe thead th {\n",
       "        text-align: right;\n",
       "    }\n",
       "</style>\n",
       "<table border=\"1\" class=\"dataframe\">\n",
       "  <thead>\n",
       "    <tr style=\"text-align: right;\">\n",
       "      <th></th>\n",
       "      <th>pclass</th>\n",
       "      <th>survived</th>\n",
       "      <th>name</th>\n",
       "      <th>sex</th>\n",
       "      <th>age</th>\n",
       "      <th>sibsp</th>\n",
       "      <th>parch</th>\n",
       "      <th>ticket</th>\n",
       "      <th>fare</th>\n",
       "      <th>cabin</th>\n",
       "      <th>embarked</th>\n",
       "      <th>boat</th>\n",
       "      <th>body</th>\n",
       "      <th>home.dest</th>\n",
       "    </tr>\n",
       "  </thead>\n",
       "  <tbody>\n",
       "    <tr>\n",
       "      <th>0</th>\n",
       "      <td>1</td>\n",
       "      <td>1</td>\n",
       "      <td>Allen, Miss. Elisabeth Walton</td>\n",
       "      <td>female</td>\n",
       "      <td>29.00</td>\n",
       "      <td>0</td>\n",
       "      <td>0</td>\n",
       "      <td>24160</td>\n",
       "      <td>211.3375</td>\n",
       "      <td>B5</td>\n",
       "      <td>S</td>\n",
       "      <td>2</td>\n",
       "      <td>NaN</td>\n",
       "      <td>St Louis, MO</td>\n",
       "    </tr>\n",
       "    <tr>\n",
       "      <th>1</th>\n",
       "      <td>1</td>\n",
       "      <td>1</td>\n",
       "      <td>Allison, Master. Hudson Trevor</td>\n",
       "      <td>male</td>\n",
       "      <td>0.92</td>\n",
       "      <td>1</td>\n",
       "      <td>2</td>\n",
       "      <td>113781</td>\n",
       "      <td>151.5500</td>\n",
       "      <td>C22 C26</td>\n",
       "      <td>S</td>\n",
       "      <td>11</td>\n",
       "      <td>NaN</td>\n",
       "      <td>Montreal, PQ / Chesterville, ON</td>\n",
       "    </tr>\n",
       "    <tr>\n",
       "      <th>2</th>\n",
       "      <td>1</td>\n",
       "      <td>0</td>\n",
       "      <td>Allison, Miss. Helen Loraine</td>\n",
       "      <td>female</td>\n",
       "      <td>2.00</td>\n",
       "      <td>1</td>\n",
       "      <td>2</td>\n",
       "      <td>113781</td>\n",
       "      <td>151.5500</td>\n",
       "      <td>C22 C26</td>\n",
       "      <td>S</td>\n",
       "      <td>NaN</td>\n",
       "      <td>NaN</td>\n",
       "      <td>Montreal, PQ / Chesterville, ON</td>\n",
       "    </tr>\n",
       "    <tr>\n",
       "      <th>3</th>\n",
       "      <td>1</td>\n",
       "      <td>0</td>\n",
       "      <td>Allison, Mr. Hudson Joshua Creighton</td>\n",
       "      <td>male</td>\n",
       "      <td>30.00</td>\n",
       "      <td>1</td>\n",
       "      <td>2</td>\n",
       "      <td>113781</td>\n",
       "      <td>151.5500</td>\n",
       "      <td>C22 C26</td>\n",
       "      <td>S</td>\n",
       "      <td>NaN</td>\n",
       "      <td>135.0</td>\n",
       "      <td>Montreal, PQ / Chesterville, ON</td>\n",
       "    </tr>\n",
       "    <tr>\n",
       "      <th>4</th>\n",
       "      <td>1</td>\n",
       "      <td>0</td>\n",
       "      <td>Allison, Mrs. Hudson J C (Bessie Waldo Daniels)</td>\n",
       "      <td>female</td>\n",
       "      <td>25.00</td>\n",
       "      <td>1</td>\n",
       "      <td>2</td>\n",
       "      <td>113781</td>\n",
       "      <td>151.5500</td>\n",
       "      <td>C22 C26</td>\n",
       "      <td>S</td>\n",
       "      <td>NaN</td>\n",
       "      <td>NaN</td>\n",
       "      <td>Montreal, PQ / Chesterville, ON</td>\n",
       "    </tr>\n",
       "  </tbody>\n",
       "</table>\n",
       "</div>"
      ],
      "text/plain": [
       "   pclass  survived                                             name     sex  \\\n",
       "0       1         1                    Allen, Miss. Elisabeth Walton  female   \n",
       "1       1         1                   Allison, Master. Hudson Trevor    male   \n",
       "2       1         0                     Allison, Miss. Helen Loraine  female   \n",
       "3       1         0             Allison, Mr. Hudson Joshua Creighton    male   \n",
       "4       1         0  Allison, Mrs. Hudson J C (Bessie Waldo Daniels)  female   \n",
       "\n",
       "     age  sibsp  parch  ticket      fare    cabin embarked boat   body  \\\n",
       "0  29.00      0      0   24160  211.3375       B5        S    2    NaN   \n",
       "1   0.92      1      2  113781  151.5500  C22 C26        S   11    NaN   \n",
       "2   2.00      1      2  113781  151.5500  C22 C26        S  NaN    NaN   \n",
       "3  30.00      1      2  113781  151.5500  C22 C26        S  NaN  135.0   \n",
       "4  25.00      1      2  113781  151.5500  C22 C26        S  NaN    NaN   \n",
       "\n",
       "                         home.dest  \n",
       "0                     St Louis, MO  \n",
       "1  Montreal, PQ / Chesterville, ON  \n",
       "2  Montreal, PQ / Chesterville, ON  \n",
       "3  Montreal, PQ / Chesterville, ON  \n",
       "4  Montreal, PQ / Chesterville, ON  "
      ]
     },
     "execution_count": 2,
     "metadata": {},
     "output_type": "execute_result"
    }
   ],
   "source": [
    "###_____________Start code here_________________###\n",
    "tit=pd.read_csv(\"titanic.csv\")\n",
    "print(tit.info())\n",
    "tit.head()\n",
    "###_____________End code here_________________###"
   ]
  },
  {
   "cell_type": "markdown",
   "metadata": {},
   "source": [
    "Here is the description of dataset columns:\n",
    "survival - Survival (0 = No; 1 = Yes)<br>\n",
    "class - Passenger Class (1 = 1st; 2 = 2nd; 3 = 3rd)<br>\n",
    "sex - Sex<br>\n",
    "age - Age<br>\n",
    "sibsp - Number of Siblings/Spouses Aboard<br>\n",
    "parch - Number of Parents/Children Aboard<br>\n",
    "ticket - Ticket Numbe\n",
    "fare - Passenger Fare<br>\n",
    "cabin - Cabin<br>\n",
    "embarked - Port of Embarkation (C = Cherbourg; Q = Queenstown; S = Southampton)<br>\n",
    "boat - Lifeboat (if survived)<br>\n",
    "body - Body number (if did not survive and body was recovered)<br>\n",
    "home.dest - Adress of people\n",
    "<br><br>\n",
    "a. Drop columns cabin, embarked, boat, body, home.dest."
   ]
  },
  {
   "cell_type": "code",
   "execution_count": 3,
   "metadata": {},
   "outputs": [],
   "source": [
    "#a\n",
    "###_____________Start code here_________________###\n",
    "\n",
    "\n",
    "tit=tit.drop([\"cabin\"],axis=1)\n",
    "tit=tit.drop([\"embarked\"],axis=1)\n",
    "tit=tit.drop([\"boat\"],axis=1)\n",
    "tit=tit.drop([\"body\"],axis=1)\n",
    "tit=tit.drop([\"home.dest\"],axis=1)\n",
    "\n",
    "\n",
    "\n",
    "###_____________End code here_________________###"
   ]
  },
  {
   "cell_type": "code",
   "execution_count": 4,
   "metadata": {},
   "outputs": [
    {
     "data": {
      "text/html": [
       "<div>\n",
       "<style scoped>\n",
       "    .dataframe tbody tr th:only-of-type {\n",
       "        vertical-align: middle;\n",
       "    }\n",
       "\n",
       "    .dataframe tbody tr th {\n",
       "        vertical-align: top;\n",
       "    }\n",
       "\n",
       "    .dataframe thead th {\n",
       "        text-align: right;\n",
       "    }\n",
       "</style>\n",
       "<table border=\"1\" class=\"dataframe\">\n",
       "  <thead>\n",
       "    <tr style=\"text-align: right;\">\n",
       "      <th></th>\n",
       "      <th>pclass</th>\n",
       "      <th>survived</th>\n",
       "      <th>name</th>\n",
       "      <th>sex</th>\n",
       "      <th>age</th>\n",
       "      <th>sibsp</th>\n",
       "      <th>parch</th>\n",
       "      <th>ticket</th>\n",
       "      <th>fare</th>\n",
       "    </tr>\n",
       "  </thead>\n",
       "  <tbody>\n",
       "    <tr>\n",
       "      <th>0</th>\n",
       "      <td>1</td>\n",
       "      <td>1</td>\n",
       "      <td>Allen, Miss. Elisabeth Walton</td>\n",
       "      <td>female</td>\n",
       "      <td>29.00</td>\n",
       "      <td>0</td>\n",
       "      <td>0</td>\n",
       "      <td>24160</td>\n",
       "      <td>211.3375</td>\n",
       "    </tr>\n",
       "    <tr>\n",
       "      <th>1</th>\n",
       "      <td>1</td>\n",
       "      <td>1</td>\n",
       "      <td>Allison, Master. Hudson Trevor</td>\n",
       "      <td>male</td>\n",
       "      <td>0.92</td>\n",
       "      <td>1</td>\n",
       "      <td>2</td>\n",
       "      <td>113781</td>\n",
       "      <td>151.5500</td>\n",
       "    </tr>\n",
       "    <tr>\n",
       "      <th>2</th>\n",
       "      <td>1</td>\n",
       "      <td>0</td>\n",
       "      <td>Allison, Miss. Helen Loraine</td>\n",
       "      <td>female</td>\n",
       "      <td>2.00</td>\n",
       "      <td>1</td>\n",
       "      <td>2</td>\n",
       "      <td>113781</td>\n",
       "      <td>151.5500</td>\n",
       "    </tr>\n",
       "    <tr>\n",
       "      <th>3</th>\n",
       "      <td>1</td>\n",
       "      <td>0</td>\n",
       "      <td>Allison, Mr. Hudson Joshua Creighton</td>\n",
       "      <td>male</td>\n",
       "      <td>30.00</td>\n",
       "      <td>1</td>\n",
       "      <td>2</td>\n",
       "      <td>113781</td>\n",
       "      <td>151.5500</td>\n",
       "    </tr>\n",
       "    <tr>\n",
       "      <th>4</th>\n",
       "      <td>1</td>\n",
       "      <td>0</td>\n",
       "      <td>Allison, Mrs. Hudson J C (Bessie Waldo Daniels)</td>\n",
       "      <td>female</td>\n",
       "      <td>25.00</td>\n",
       "      <td>1</td>\n",
       "      <td>2</td>\n",
       "      <td>113781</td>\n",
       "      <td>151.5500</td>\n",
       "    </tr>\n",
       "  </tbody>\n",
       "</table>\n",
       "</div>"
      ],
      "text/plain": [
       "   pclass  survived                                             name     sex  \\\n",
       "0       1         1                    Allen, Miss. Elisabeth Walton  female   \n",
       "1       1         1                   Allison, Master. Hudson Trevor    male   \n",
       "2       1         0                     Allison, Miss. Helen Loraine  female   \n",
       "3       1         0             Allison, Mr. Hudson Joshua Creighton    male   \n",
       "4       1         0  Allison, Mrs. Hudson J C (Bessie Waldo Daniels)  female   \n",
       "\n",
       "     age  sibsp  parch  ticket      fare  \n",
       "0  29.00      0      0   24160  211.3375  \n",
       "1   0.92      1      2  113781  151.5500  \n",
       "2   2.00      1      2  113781  151.5500  \n",
       "3  30.00      1      2  113781  151.5500  \n",
       "4  25.00      1      2  113781  151.5500  "
      ]
     },
     "execution_count": 4,
     "metadata": {},
     "output_type": "execute_result"
    }
   ],
   "source": [
    "tit.head()\n"
   ]
  },
  {
   "cell_type": "markdown",
   "metadata": {},
   "source": [
    "b. Check how many rows contain missing values."
   ]
  },
  {
   "cell_type": "code",
   "execution_count": 5,
   "metadata": {
    "scrolled": true
   },
   "outputs": [
    {
     "data": {
      "text/plain": [
       "pclass      False\n",
       "survived    False\n",
       "name        False\n",
       "sex         False\n",
       "age          True\n",
       "sibsp       False\n",
       "parch       False\n",
       "ticket      False\n",
       "fare         True\n",
       "dtype: bool"
      ]
     },
     "execution_count": 5,
     "metadata": {},
     "output_type": "execute_result"
    }
   ],
   "source": [
    "#b\n",
    "###_____________Start code here_________________###\n",
    "\n",
    "tit.isna().any()\n",
    "\n",
    "###_____________End code here_________________###"
   ]
  },
  {
   "cell_type": "markdown",
   "metadata": {},
   "source": [
    "c. Fill missing values in age column by its mean or median."
   ]
  },
  {
   "cell_type": "code",
   "execution_count": 6,
   "metadata": {},
   "outputs": [
    {
     "name": "stdout",
     "output_type": "stream",
     "text": [
      "29.881137667304014\n"
     ]
    }
   ],
   "source": [
    "#c\n",
    "###_____________Start code here_________________###\n",
    "mean=tit[\"age\"].mean()\n",
    "\n",
    "\n",
    "\n",
    "print(mean)\n",
    "###_____________End code here_________________###"
   ]
  },
  {
   "cell_type": "code",
   "execution_count": 7,
   "metadata": {},
   "outputs": [],
   "source": [
    "tit[\"age\"].fillna(mean,inplace=True)\n"
   ]
  },
  {
   "cell_type": "code",
   "execution_count": 8,
   "metadata": {},
   "outputs": [
    {
     "data": {
      "text/plain": [
       "pclass      False\n",
       "survived    False\n",
       "name        False\n",
       "sex         False\n",
       "age         False\n",
       "sibsp       False\n",
       "parch       False\n",
       "ticket      False\n",
       "fare         True\n",
       "dtype: bool"
      ]
     },
     "execution_count": 8,
     "metadata": {},
     "output_type": "execute_result"
    }
   ],
   "source": [
    "tit.isna().any()"
   ]
  },
  {
   "cell_type": "markdown",
   "metadata": {},
   "source": [
    "d. Drop remaining missing values."
   ]
  },
  {
   "cell_type": "code",
   "execution_count": 41,
   "metadata": {},
   "outputs": [
    {
     "name": "stdout",
     "output_type": "stream",
     "text": [
      "pclass      False\n",
      "survived    False\n",
      "name        False\n",
      "sex         False\n",
      "age         False\n",
      "sibsp       False\n",
      "parch       False\n",
      "ticket      False\n",
      "fare        False\n",
      "dtype: bool\n"
     ]
    }
   ],
   "source": [
    "#d\n",
    "###_____________Start code here_________________###\n",
    "print(tit.isna().any())\n",
    "i=tit[tit[\"fare\"].isna()].index\n",
    "tit.drop(tit.index[i], inplace=True)\n",
    "\n",
    "###_____________End code here_________________###"
   ]
  },
  {
   "cell_type": "code",
   "execution_count": 40,
   "metadata": {},
   "outputs": [
    {
     "data": {
      "text/html": [
       "<div>\n",
       "<style scoped>\n",
       "    .dataframe tbody tr th:only-of-type {\n",
       "        vertical-align: middle;\n",
       "    }\n",
       "\n",
       "    .dataframe tbody tr th {\n",
       "        vertical-align: top;\n",
       "    }\n",
       "\n",
       "    .dataframe thead th {\n",
       "        text-align: right;\n",
       "    }\n",
       "</style>\n",
       "<table border=\"1\" class=\"dataframe\">\n",
       "  <thead>\n",
       "    <tr style=\"text-align: right;\">\n",
       "      <th></th>\n",
       "      <th>pclass</th>\n",
       "      <th>survived</th>\n",
       "      <th>name</th>\n",
       "      <th>sex</th>\n",
       "      <th>age</th>\n",
       "      <th>sibsp</th>\n",
       "      <th>parch</th>\n",
       "      <th>ticket</th>\n",
       "      <th>fare</th>\n",
       "    </tr>\n",
       "  </thead>\n",
       "  <tbody>\n",
       "  </tbody>\n",
       "</table>\n",
       "</div>"
      ],
      "text/plain": [
       "Empty DataFrame\n",
       "Columns: [pclass, survived, name, sex, age, sibsp, parch, ticket, fare]\n",
       "Index: []"
      ]
     },
     "execution_count": 40,
     "metadata": {},
     "output_type": "execute_result"
    }
   ],
   "source": []
  },
  {
   "cell_type": "markdown",
   "metadata": {},
   "source": [
    "e. Calculate the percent of survived and not survived by sex."
   ]
  },
  {
   "cell_type": "code",
   "execution_count": 45,
   "metadata": {},
   "outputs": [
    {
     "name": "stdout",
     "output_type": "stream",
     "text": [
      "the percent of survived female:      72.74678111587983%\n",
      "the percent of not survived female:  27.253218884120173%\n",
      "the percent of survived male:        40.26128266033254%\n",
      "the percent of not survived male:    59.73871733966746%\n"
     ]
    }
   ],
   "source": [
    "#e\n",
    "###_____________Start code here_________________###\n",
    "\n",
    "f=tit[tit[\"sex\"]==\"female\"]\n",
    "f_p=f[\"survived\"].sum()/len(f)*100\n",
    "m=tit[tit[\"sex\"]==\"male\"]\n",
    "m_p=f[\"survived\"].sum()/len(m)*100\n",
    "print(\"the percent of survived female:     \",str(f_p)+\"%\")\n",
    "print(\"the percent of not survived female: \",str(100-f_p)+\"%\")\n",
    "print(\"the percent of survived male:       \",str(m_p)+\"%\")\n",
    "print(\"the percent of not survived male:   \",str(100-m_p)+\"%\")\n",
    "###_____________End code here_________________###"
   ]
  },
  {
   "cell_type": "markdown",
   "metadata": {},
   "source": [
    "f. Create a new column named \"fare_AMD\" with the prices of tickets in AMD (1 USD = 485 AMD).<br>\n",
    "**Hint:** You can do it by applying a function on column \"fare\"."
   ]
  },
  {
   "cell_type": "code",
   "execution_count": 46,
   "metadata": {},
   "outputs": [
    {
     "data": {
      "text/html": [
       "<div>\n",
       "<style scoped>\n",
       "    .dataframe tbody tr th:only-of-type {\n",
       "        vertical-align: middle;\n",
       "    }\n",
       "\n",
       "    .dataframe tbody tr th {\n",
       "        vertical-align: top;\n",
       "    }\n",
       "\n",
       "    .dataframe thead th {\n",
       "        text-align: right;\n",
       "    }\n",
       "</style>\n",
       "<table border=\"1\" class=\"dataframe\">\n",
       "  <thead>\n",
       "    <tr style=\"text-align: right;\">\n",
       "      <th></th>\n",
       "      <th>pclass</th>\n",
       "      <th>survived</th>\n",
       "      <th>name</th>\n",
       "      <th>sex</th>\n",
       "      <th>age</th>\n",
       "      <th>sibsp</th>\n",
       "      <th>parch</th>\n",
       "      <th>ticket</th>\n",
       "      <th>fare</th>\n",
       "      <th>fare_AMD</th>\n",
       "    </tr>\n",
       "  </thead>\n",
       "  <tbody>\n",
       "    <tr>\n",
       "      <th>0</th>\n",
       "      <td>1</td>\n",
       "      <td>1</td>\n",
       "      <td>Allen, Miss. Elisabeth Walton</td>\n",
       "      <td>female</td>\n",
       "      <td>29.00</td>\n",
       "      <td>0</td>\n",
       "      <td>0</td>\n",
       "      <td>24160</td>\n",
       "      <td>211.3375</td>\n",
       "      <td>102498.6875</td>\n",
       "    </tr>\n",
       "    <tr>\n",
       "      <th>1</th>\n",
       "      <td>1</td>\n",
       "      <td>1</td>\n",
       "      <td>Allison, Master. Hudson Trevor</td>\n",
       "      <td>male</td>\n",
       "      <td>0.92</td>\n",
       "      <td>1</td>\n",
       "      <td>2</td>\n",
       "      <td>113781</td>\n",
       "      <td>151.5500</td>\n",
       "      <td>73501.7500</td>\n",
       "    </tr>\n",
       "    <tr>\n",
       "      <th>2</th>\n",
       "      <td>1</td>\n",
       "      <td>0</td>\n",
       "      <td>Allison, Miss. Helen Loraine</td>\n",
       "      <td>female</td>\n",
       "      <td>2.00</td>\n",
       "      <td>1</td>\n",
       "      <td>2</td>\n",
       "      <td>113781</td>\n",
       "      <td>151.5500</td>\n",
       "      <td>73501.7500</td>\n",
       "    </tr>\n",
       "    <tr>\n",
       "      <th>3</th>\n",
       "      <td>1</td>\n",
       "      <td>0</td>\n",
       "      <td>Allison, Mr. Hudson Joshua Creighton</td>\n",
       "      <td>male</td>\n",
       "      <td>30.00</td>\n",
       "      <td>1</td>\n",
       "      <td>2</td>\n",
       "      <td>113781</td>\n",
       "      <td>151.5500</td>\n",
       "      <td>73501.7500</td>\n",
       "    </tr>\n",
       "    <tr>\n",
       "      <th>4</th>\n",
       "      <td>1</td>\n",
       "      <td>0</td>\n",
       "      <td>Allison, Mrs. Hudson J C (Bessie Waldo Daniels)</td>\n",
       "      <td>female</td>\n",
       "      <td>25.00</td>\n",
       "      <td>1</td>\n",
       "      <td>2</td>\n",
       "      <td>113781</td>\n",
       "      <td>151.5500</td>\n",
       "      <td>73501.7500</td>\n",
       "    </tr>\n",
       "  </tbody>\n",
       "</table>\n",
       "</div>"
      ],
      "text/plain": [
       "   pclass  survived                                             name     sex  \\\n",
       "0       1         1                    Allen, Miss. Elisabeth Walton  female   \n",
       "1       1         1                   Allison, Master. Hudson Trevor    male   \n",
       "2       1         0                     Allison, Miss. Helen Loraine  female   \n",
       "3       1         0             Allison, Mr. Hudson Joshua Creighton    male   \n",
       "4       1         0  Allison, Mrs. Hudson J C (Bessie Waldo Daniels)  female   \n",
       "\n",
       "     age  sibsp  parch  ticket      fare     fare_AMD  \n",
       "0  29.00      0      0   24160  211.3375  102498.6875  \n",
       "1   0.92      1      2  113781  151.5500   73501.7500  \n",
       "2   2.00      1      2  113781  151.5500   73501.7500  \n",
       "3  30.00      1      2  113781  151.5500   73501.7500  \n",
       "4  25.00      1      2  113781  151.5500   73501.7500  "
      ]
     },
     "execution_count": 46,
     "metadata": {},
     "output_type": "execute_result"
    }
   ],
   "source": [
    "#f\n",
    "###_____________Start code here_________________###\n",
    "\n",
    "tit[\"fare_AMD\"]=tit[ \"fare\"].apply(lambda num : num *485)\n",
    "tit.head()\n",
    "\n",
    "\n",
    "###_____________End code here_________________###"
   ]
  },
  {
   "cell_type": "markdown",
   "metadata": {},
   "source": [
    "g. Round the values of \"fare\" column and add '$' sign in front of them by applying a lambda function."
   ]
  },
  {
   "cell_type": "code",
   "execution_count": 54,
   "metadata": {},
   "outputs": [
    {
     "data": {
      "text/html": [
       "<div>\n",
       "<style scoped>\n",
       "    .dataframe tbody tr th:only-of-type {\n",
       "        vertical-align: middle;\n",
       "    }\n",
       "\n",
       "    .dataframe tbody tr th {\n",
       "        vertical-align: top;\n",
       "    }\n",
       "\n",
       "    .dataframe thead th {\n",
       "        text-align: right;\n",
       "    }\n",
       "</style>\n",
       "<table border=\"1\" class=\"dataframe\">\n",
       "  <thead>\n",
       "    <tr style=\"text-align: right;\">\n",
       "      <th></th>\n",
       "      <th>pclass</th>\n",
       "      <th>survived</th>\n",
       "      <th>name</th>\n",
       "      <th>sex</th>\n",
       "      <th>age</th>\n",
       "      <th>sibsp</th>\n",
       "      <th>parch</th>\n",
       "      <th>ticket</th>\n",
       "      <th>fare</th>\n",
       "      <th>fare_AMD</th>\n",
       "    </tr>\n",
       "  </thead>\n",
       "  <tbody>\n",
       "    <tr>\n",
       "      <th>0</th>\n",
       "      <td>1</td>\n",
       "      <td>1</td>\n",
       "      <td>Allen, Miss. Elisabeth Walton</td>\n",
       "      <td>female</td>\n",
       "      <td>29.00</td>\n",
       "      <td>0</td>\n",
       "      <td>0</td>\n",
       "      <td>24160</td>\n",
       "      <td>211$</td>\n",
       "      <td>102498.6875</td>\n",
       "    </tr>\n",
       "    <tr>\n",
       "      <th>1</th>\n",
       "      <td>1</td>\n",
       "      <td>1</td>\n",
       "      <td>Allison, Master. Hudson Trevor</td>\n",
       "      <td>male</td>\n",
       "      <td>0.92</td>\n",
       "      <td>1</td>\n",
       "      <td>2</td>\n",
       "      <td>113781</td>\n",
       "      <td>152$</td>\n",
       "      <td>73501.7500</td>\n",
       "    </tr>\n",
       "    <tr>\n",
       "      <th>2</th>\n",
       "      <td>1</td>\n",
       "      <td>0</td>\n",
       "      <td>Allison, Miss. Helen Loraine</td>\n",
       "      <td>female</td>\n",
       "      <td>2.00</td>\n",
       "      <td>1</td>\n",
       "      <td>2</td>\n",
       "      <td>113781</td>\n",
       "      <td>152$</td>\n",
       "      <td>73501.7500</td>\n",
       "    </tr>\n",
       "    <tr>\n",
       "      <th>3</th>\n",
       "      <td>1</td>\n",
       "      <td>0</td>\n",
       "      <td>Allison, Mr. Hudson Joshua Creighton</td>\n",
       "      <td>male</td>\n",
       "      <td>30.00</td>\n",
       "      <td>1</td>\n",
       "      <td>2</td>\n",
       "      <td>113781</td>\n",
       "      <td>152$</td>\n",
       "      <td>73501.7500</td>\n",
       "    </tr>\n",
       "    <tr>\n",
       "      <th>4</th>\n",
       "      <td>1</td>\n",
       "      <td>0</td>\n",
       "      <td>Allison, Mrs. Hudson J C (Bessie Waldo Daniels)</td>\n",
       "      <td>female</td>\n",
       "      <td>25.00</td>\n",
       "      <td>1</td>\n",
       "      <td>2</td>\n",
       "      <td>113781</td>\n",
       "      <td>152$</td>\n",
       "      <td>73501.7500</td>\n",
       "    </tr>\n",
       "  </tbody>\n",
       "</table>\n",
       "</div>"
      ],
      "text/plain": [
       "   pclass  survived                                             name     sex  \\\n",
       "0       1         1                    Allen, Miss. Elisabeth Walton  female   \n",
       "1       1         1                   Allison, Master. Hudson Trevor    male   \n",
       "2       1         0                     Allison, Miss. Helen Loraine  female   \n",
       "3       1         0             Allison, Mr. Hudson Joshua Creighton    male   \n",
       "4       1         0  Allison, Mrs. Hudson J C (Bessie Waldo Daniels)  female   \n",
       "\n",
       "     age  sibsp  parch  ticket  fare     fare_AMD  \n",
       "0  29.00      0      0   24160  211$  102498.6875  \n",
       "1   0.92      1      2  113781  152$   73501.7500  \n",
       "2   2.00      1      2  113781  152$   73501.7500  \n",
       "3  30.00      1      2  113781  152$   73501.7500  \n",
       "4  25.00      1      2  113781  152$   73501.7500  "
      ]
     },
     "execution_count": 54,
     "metadata": {},
     "output_type": "execute_result"
    }
   ],
   "source": [
    "#g\n",
    "###_____________Start code here_________________###\n",
    "tit[\"fare\"]=tit[\"fare\"].apply(lambda num: str(round(num))+\"$\")\n",
    "\n",
    "\n",
    "tit.head()\n",
    "###_____________End code here_________________###"
   ]
  },
  {
   "cell_type": "markdown",
   "metadata": {},
   "source": [
    "**Problem 13:**<br>\n",
    "a. Find all names and ages in the text given below using regex and create dictionary where names are keys and ages are values."
   ]
  },
  {
   "cell_type": "code",
   "execution_count": 264,
   "metadata": {},
   "outputs": [
    {
     "name": "stdout",
     "output_type": "stream",
     "text": [
      "{'Jonh': '12', 'Jack': '23', 'Suzan': '45'}\n"
     ]
    }
   ],
   "source": [
    "text = \"I'm Jonh and I'm 12 year old, Jack is 23 and Suzan is 45 and 2132 they all earning $100\"\n",
    "\n",
    "###_____________Start code here_________________###\n",
    "\n",
    "import re \n",
    "names=re.findall(\"([A-Z]\\w+)\",text)\n",
    "ages=re.findall(\"\\d{2,2}\",text)\n",
    "nam_age=dict(zip(names,ages))\n",
    "print(nam_age)\n",
    "\n",
    "\n",
    "\n",
    "###_____________End code here_________________###"
   ]
  },
  {
   "cell_type": "markdown",
   "metadata": {},
   "source": [
    "b. Substitute all email endings in the text given below with \"@hogwarts.com\" using regex."
   ]
  },
  {
   "cell_type": "code",
   "execution_count": 10,
   "metadata": {},
   "outputs": [
    {
     "name": "stdout",
     "output_type": "stream",
     "text": [
      "My name is Harry, my e-mail is HarryPotter@hogwarts.com, I need to send my statement of purpose to careers@hogwarts.com\n"
     ]
    }
   ],
   "source": [
    "my_t = \"My name is Harry, my e-mail is HarryPotter@aua.am, I need to send my statement of purpose to careers@aua.am\"\n",
    "\n",
    "###_____________Start code here_________________###\n",
    "n_text=re.sub(\"@\\w+.\\w+\",\"@hogwarts.com\",my_t)\n",
    "print(n_text)\n",
    "\n",
    "###_____________End code here_________________###"
   ]
  },
  {
   "cell_type": "markdown",
   "metadata": {},
   "source": [
    "**Problem 14**\n",
    "<br>Read \"data.txt\" file attached and get all phone numbers and email addresses into separate lists using regex."
   ]
  },
  {
   "cell_type": "code",
   "execution_count": 266,
   "metadata": {},
   "outputs": [
    {
     "name": "stdout",
     "output_type": "stream",
     "text": [
      "all phone numbers:  ['800-555-5669', '560-555-5153', '900-555-9340', '714-555-7405', '800-555-6771', '783-555-4799', '516-555-4615', '127-555-1867', '608-555-4938', '568-555-6051', '292-555-1875'] \n",
      "\n",
      "all email addresses:  ['charlesharris@bogusemail.com', 'laurawilliams@bogusemail.com', 'coreyjefferson@bogusemail.com', 'jenniferwhite@bogusemail.com', 'tomdavis@bogusemail.com', 'neilpatterson@bogusemail.com', 'laurajefferson@bogusemail.com', 'mariajohnson@bogusemail.com', 'michaelarnold@bogusemail.com', 'michaelsmith@bogusemail.com', 'robertstuart@bogusemail.com']\n"
     ]
    }
   ],
   "source": [
    "###_____________Start code here_________________###\n",
    "import re\n",
    "with open( r\"data.txt\",\"r\") as data:\n",
    "    txt=data.read()\n",
    "    \n",
    "    numbers=re.findall(\"\\d+-\\d+-\\d+\",txt)\n",
    "    email=re.findall(\"\\w+@\\w+.\\w+\",txt)\n",
    "    print(\"all phone numbers: \",numbers,\"\\n\")\n",
    "    print(\"all email addresses: \",email)\n",
    "\n",
    "\n",
    "\n",
    "###_____________End code here_________________###"
   ]
  },
  {
   "cell_type": "markdown",
   "metadata": {},
   "source": [
    "***Problem 15***<br>Create a class of a human that has data attribute \"nationality\" as Armenian.<br> Make sure that the class instances of human class have arguments name, surname, profession and salary. <br>The class defined must have a method that returns an expression in this format: \"Hi, I am \"name\" \"surname\". I am a/an \"profession\" and I earn \"salary\" a month.\"<br>\n",
    "Create one or more isntancses of the class and call the class method defined on it or them."
   ]
  },
  {
   "cell_type": "code",
   "execution_count": 16,
   "metadata": {},
   "outputs": [
    {
     "name": "stdout",
     "output_type": "stream",
     "text": [
      "Hi, I am Joe Poghosyan. I am a/an doctor and I earn $1000 a month.\n",
      "Armenian\n",
      "Hi, I am Ann Kirakosyan. I am a/an actress and I earn $550 a month.\n",
      "Armenian\n"
     ]
    }
   ],
   "source": [
    "###_____________Start code here_________________###\n",
    "\n",
    "class Human:\n",
    "    nationality=\"Armenian\"\n",
    "    def __init__(self,name, surname, profession,salary):\n",
    "        self.name=name\n",
    "        self.surname=surname\n",
    "        self.profession=profession\n",
    "        self.salary=salary\n",
    "    def expres(self):\n",
    "        return(\"Hi, I am {0} {1}. I am a/an {2} and I earn {3} a month.\".format(self.name,self.surname,self.profession,self.salary))\n",
    "human1=Human(\"Joe\",\"Poghosyan\",\"doctor\",\"$1000\")\n",
    "print(human1.expres())\n",
    "print(human1.nationality)\n",
    "\n",
    "human2=Human(\"Ann\",\"Kirakosyan\",\"actress\",\"$550\")\n",
    "print(human2.expres())\n",
    "print(human2.nationality)\n",
    "        \n",
    "###_____________End code here_________________###"
   ]
  }
 ],
 "metadata": {
  "kernelspec": {
   "display_name": "Python 3",
   "language": "python",
   "name": "python3"
  },
  "language_info": {
   "codemirror_mode": {
    "name": "ipython",
    "version": 3
   },
   "file_extension": ".py",
   "mimetype": "text/x-python",
   "name": "python",
   "nbconvert_exporter": "python",
   "pygments_lexer": "ipython3",
   "version": "3.7.1"
  }
 },
 "nbformat": 4,
 "nbformat_minor": 2
}
